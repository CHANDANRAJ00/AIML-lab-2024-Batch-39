{
  "nbformat": 4,
  "nbformat_minor": 0,
  "metadata": {
    "colab": {
      "provenance": [],
      "authorship_tag": "ABX9TyNT3vsumaAlRqYWRM8A+8O/",
      "include_colab_link": true
    },
    "kernelspec": {
      "name": "python3",
      "display_name": "Python 3"
    },
    "language_info": {
      "name": "python"
    }
  },
  "cells": [
    {
      "cell_type": "markdown",
      "metadata": {
        "id": "view-in-github",
        "colab_type": "text"
      },
      "source": [
        "<a href=\"https://colab.research.google.com/github/CHANDANRAJ00/AIML-lab-2024-Batch-39/blob/main/Assignment_3.ipynb\" target=\"_parent\"><img src=\"https://colab.research.google.com/assets/colab-badge.svg\" alt=\"Open In Colab\"/></a>"
      ]
    },
    {
      "cell_type": "code",
      "execution_count": null,
      "metadata": {
        "id": "O1yxUekpu_qp"
      },
      "outputs": [],
      "source": []
    },
    {
      "cell_type": "markdown",
      "source": [
        "Implementing mini-max game algorithm"
      ],
      "metadata": {
        "id": "yNRHxZ5hvEES"
      }
    },
    {
      "cell_type": "code",
      "source": [
        "#implement minimax game algorithm\n",
        "def max_min(node, depth, maximizing_player):\n",
        "    if depth == 0 or is_leaf_node(node):\n",
        "        return evaluate(node)\n",
        "\n",
        "    if maximizing_player:\n",
        "        max_eval = float('-inf')\n",
        "        for child in get_children(node):\n",
        "            eval = max_min(child, depth - 1, False)\n",
        "            max_eval = max(max_eval, eval)\n",
        "        return max_eval\n",
        "    else:\n",
        "        min_eval = float('inf')\n",
        "        for child in get_children(node):\n",
        "            eval = max_min(child, depth - 1, True)\n",
        "            min_eval = min(min_eval, eval)\n",
        "        return min_eval\n",
        "\n",
        "def is_leaf_node(node):\n",
        "    return not node['children']\n",
        "\n",
        "def evaluate(node):\n",
        "    return node['value']\n",
        "\n",
        "def get_children(node):\n",
        "    return node['children']\n",
        "\n",
        "node_b = {'value': None, 'children': [{'value': 12, 'children': []}, {'value': 10, 'children': []}]}\n",
        "node_c = {'value': None, 'children': [{'value': 36, 'children': []}, {'value': 25, 'children': []}]}\n",
        "node_a = {'value': None, 'children': [node_b, node_c]}\n",
        "\n",
        "result = max_min(node_a, depth=3, maximizing_player=True)\n",
        "print(result)"
      ],
      "metadata": {
        "id": "gORqsDYmnVjs",
        "colab": {
          "base_uri": "https://localhost:8080/"
        },
        "outputId": "6ee70901-2edc-43d7-fb6f-f46c01771a69"
      },
      "execution_count": 1,
      "outputs": [
        {
          "output_type": "stream",
          "name": "stdout",
          "text": [
            "25\n"
          ]
        }
      ]
    }
  ]
}